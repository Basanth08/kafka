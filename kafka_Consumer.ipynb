{
 "cells": [
  {
   "cell_type": "code",
   "execution_count": 1,
   "id": "ea52a4f5-a10d-4dfe-b583-add348896399",
   "metadata": {},
   "outputs": [],
   "source": [
    "from kafka import KafkaConsumer"
   ]
  },
  {
   "cell_type": "code",
   "execution_count": 2,
   "id": "8aa0bbd8-06a3-4b42-bc80-ee540d2d33ec",
   "metadata": {},
   "outputs": [],
   "source": [
    "import json"
   ]
  },
  {
   "cell_type": "code",
   "execution_count": 4,
   "id": "fc80b942-3a2b-49a8-9633-25df64b59170",
   "metadata": {},
   "outputs": [],
   "source": [
    "consumer = KafkaConsumer(\n",
    "    'test_topic',  # Start with your existing topic with messages\n",
    "    bootstrap_servers=['localhost:9092'],\n",
    "    group_id='TestConsumerGroup',\n",
    "    key_deserializer=lambda m: m.decode('utf-8'),\n",
    "    value_deserializer=lambda m: m.decode('utf-8'),\n",
    "    auto_offset_reset='earliest'  # Read from beginning\n",
    ")"
   ]
  },
  {
   "cell_type": "code",
   "execution_count": null,
   "id": "7c6258fc-9123-4bd3-8aa7-9815b28932c7",
   "metadata": {},
   "outputs": [
    {
     "name": "stdout",
     "output_type": "stream",
     "text": [
      "Starting to consume messages...\n",
      "Key: my_key\n",
      "Value: Hello from Basanth's Kafka Producer!\n",
      "Partition: 0\n",
      "Offset: 0\n",
      "--------------------------------------------------\n",
      "Key: key_1\n",
      "Value: Test message 1 from Basanth\n",
      "Partition: 0\n",
      "Offset: 1\n",
      "--------------------------------------------------\n",
      "Key: key_2\n",
      "Value: Test message 2 from Basanth\n",
      "Partition: 0\n",
      "Offset: 2\n",
      "--------------------------------------------------\n",
      "Key: key_3\n",
      "Value: Test message 3 from Basanth\n",
      "Partition: 0\n",
      "Offset: 3\n",
      "--------------------------------------------------\n",
      "Key: key_4\n",
      "Value: Test message 4 from Basanth\n",
      "Partition: 0\n",
      "Offset: 4\n",
      "--------------------------------------------------\n",
      "Key: key_5\n",
      "Value: Test message 5 from Basanth\n",
      "Partition: 0\n",
      "Offset: 5\n",
      "--------------------------------------------------\n"
     ]
    }
   ],
   "source": [
    "print(\"Starting to consume messages...\")\n",
    "for message in consumer:\n",
    "    print(f\"Key: {message.key}\")\n",
    "    print(f\"Value: {message.value}\")\n",
    "    print(f\"Partition: {message.partition}\")\n",
    "    print(f\"Offset: {message.offset}\")\n",
    "    print(\"-\" * 50)"
   ]
  },
  {
   "cell_type": "code",
   "execution_count": null,
   "id": "2b4feaca-b262-49e1-b3fd-ee8a9312c5cc",
   "metadata": {},
   "outputs": [],
   "source": []
  }
 ],
 "metadata": {
  "kernelspec": {
   "display_name": "Python 3 (ipykernel)",
   "language": "python",
   "name": "python3"
  },
  "language_info": {
   "codemirror_mode": {
    "name": "ipython",
    "version": 3
   },
   "file_extension": ".py",
   "mimetype": "text/x-python",
   "name": "python",
   "nbconvert_exporter": "python",
   "pygments_lexer": "ipython3",
   "version": "3.11.5"
  }
 },
 "nbformat": 4,
 "nbformat_minor": 5
}
