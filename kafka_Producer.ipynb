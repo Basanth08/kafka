{
 "cells": [
  {
   "cell_type": "code",
   "execution_count": 6,
   "id": "1393a313-d934-492a-af62-0da8ba0bb8ff",
   "metadata": {},
   "outputs": [],
   "source": [
    "from kafka import KafkaProducer"
   ]
  },
  {
   "cell_type": "code",
   "execution_count": 8,
   "id": "421ca9b9-6fb7-4a28-a579-472dad6b1f63",
   "metadata": {},
   "outputs": [],
   "source": [
    "from kafka import KafkaProducer\n",
    "\n",
    "# Define the configuration properties for your Docker Kafka setup\n",
    "producer = KafkaProducer(\n",
    "    bootstrap_servers=['localhost:9092'],  # Your actual Kafka broker address\n",
    "    key_serializer=str.encode,     # Using built-in str.encode for key serialization\n",
    "    value_serializer=str.encode    # Using built-in str.encode for value serialization\n",
    ")\n",
    "\n",
    "\n"
   ]
  },
  {
   "cell_type": "code",
   "execution_count": 9,
   "id": "41342bff-2d7e-4474-8f86-ed300e7c533e",
   "metadata": {},
   "outputs": [],
   "source": [
    "# Example of sending a message to your Kafka cluster\n",
    "producer.send('test_topic', key='my_key', value='Hello from Basanth\\'s Kafka Producer!')\n",
    "producer.flush()  # Ensure all messages are sent before closing the producer"
   ]
  },
  {
   "cell_type": "code",
   "execution_count": 10,
   "id": "d3ba878d",
   "metadata": {},
   "outputs": [
    {
     "name": "stdout",
     "output_type": "stream",
     "text": [
      "Sent: Test message 1 from Basanth\n",
      "Sent: Test message 2 from Basanth\n",
      "Sent: Test message 3 from Basanth\n",
      "Sent: Test message 4 from Basanth\n",
      "Sent: Test message 5 from Basanth\n",
      "All messages sent successfully!\n"
     ]
    }
   ],
   "source": [
    "# Test the producer by sending a few messages\n",
    "for i in range(5):\n",
    "    message = f\"Test message {i+1} from Basanth\"\n",
    "    producer.send('test_topic', key=f'key_{i+1}', value=message)\n",
    "    print(f\"Sent: {message}\")\n",
    "\n",
    "producer.flush()\n",
    "print(\"All messages sent successfully!\")\n"
   ]
  },
  {
   "cell_type": "code",
   "execution_count": null,
   "id": "0c91c5e2-4dad-4ad7-95a8-a3076d3b6826",
   "metadata": {},
   "outputs": [],
   "source": []
  }
 ],
 "metadata": {
  "kernelspec": {
   "display_name": "Python 3 (ipykernel)",
   "language": "python",
   "name": "python3"
  },
  "language_info": {
   "codemirror_mode": {
    "name": "ipython",
    "version": 3
   },
   "file_extension": ".py",
   "mimetype": "text/x-python",
   "name": "python",
   "nbconvert_exporter": "python",
   "pygments_lexer": "ipython3",
   "version": "3.11.5"
  }
 },
 "nbformat": 4,
 "nbformat_minor": 5
}
